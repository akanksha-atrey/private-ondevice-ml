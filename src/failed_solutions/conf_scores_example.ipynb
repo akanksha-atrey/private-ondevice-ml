{
 "cells": [
  {
   "cell_type": "markdown",
   "metadata": {},
   "source": []
  },
  {
   "cell_type": "code",
   "execution_count": 2,
   "metadata": {},
   "outputs": [],
   "source": [
    "import os\n",
    "os.chdir('../')"
   ]
  },
  {
   "cell_type": "code",
   "execution_count": 3,
   "metadata": {},
   "outputs": [
    {
     "name": "stderr",
     "output_type": "stream",
     "text": [
      "/Users/aatrey/Desktop/GradSchool/Research/private-ondevice-ml/venv/lib/python3.6/site-packages/tqdm/auto.py:22: TqdmWarning: IProgress not found. Please update jupyter and ipywidgets. See https://ipywidgets.readthedocs.io/en/stable/user_install.html\n",
      "  from .autonotebook import tqdm as notebook_tqdm\n"
     ]
    }
   ],
   "source": [
    "from src.models_har import Net\n",
    "\n",
    "import argparse\n",
    "import numpy as np\n",
    "import pandas as pd\n",
    "import pickle as pkl\n",
    "import time\n",
    "import random\n",
    "\n",
    "import torch\n",
    "\n",
    "import matplotlib.pyplot as plt\n",
    "import seaborn as sns"
   ]
  },
  {
   "cell_type": "code",
   "execution_count": 4,
   "metadata": {},
   "outputs": [],
   "source": [
    "X_train = pd.read_csv('./data/UCI_HAR/train/X_train.txt', delim_whitespace=True, header=None)\n",
    "y_train = pd.read_csv('./data/UCI_HAR/train/y_train.txt', delim_whitespace=True, header=None).squeeze()\n",
    "X_test = pd.read_csv('./data/UCI_HAR/test/X_test.txt', delim_whitespace=True, header=None)\n",
    "y_test = pd.read_csv('./data/UCI_HAR/test/y_test.txt', delim_whitespace=True, header=None).squeeze()\n",
    "\n",
    "y_train = y_train-1\n",
    "y_test = y_test-1"
   ]
  },
  {
   "cell_type": "code",
   "execution_count": 5,
   "metadata": {},
   "outputs": [
    {
     "data": {
      "text/html": [
       "<div>\n",
       "<style scoped>\n",
       "    .dataframe tbody tr th:only-of-type {\n",
       "        vertical-align: middle;\n",
       "    }\n",
       "\n",
       "    .dataframe tbody tr th {\n",
       "        vertical-align: top;\n",
       "    }\n",
       "\n",
       "    .dataframe thead th {\n",
       "        text-align: right;\n",
       "    }\n",
       "</style>\n",
       "<table border=\"1\" class=\"dataframe\">\n",
       "  <thead>\n",
       "    <tr style=\"text-align: right;\">\n",
       "      <th></th>\n",
       "      <th>0</th>\n",
       "      <th>1</th>\n",
       "      <th>2</th>\n",
       "      <th>3</th>\n",
       "      <th>4</th>\n",
       "      <th>5</th>\n",
       "      <th>6</th>\n",
       "      <th>7</th>\n",
       "      <th>8</th>\n",
       "      <th>9</th>\n",
       "      <th>...</th>\n",
       "      <th>551</th>\n",
       "      <th>552</th>\n",
       "      <th>553</th>\n",
       "      <th>554</th>\n",
       "      <th>555</th>\n",
       "      <th>556</th>\n",
       "      <th>557</th>\n",
       "      <th>558</th>\n",
       "      <th>559</th>\n",
       "      <th>560</th>\n",
       "    </tr>\n",
       "  </thead>\n",
       "  <tbody>\n",
       "    <tr>\n",
       "      <th>min</th>\n",
       "      <td>-1.0</td>\n",
       "      <td>-1.0</td>\n",
       "      <td>-1.0</td>\n",
       "      <td>-1.0</td>\n",
       "      <td>-0.999873</td>\n",
       "      <td>-1.0</td>\n",
       "      <td>-1.0</td>\n",
       "      <td>-1.000000</td>\n",
       "      <td>-1.0</td>\n",
       "      <td>-1.0</td>\n",
       "      <td>...</td>\n",
       "      <td>-1.0000</td>\n",
       "      <td>-0.995357</td>\n",
       "      <td>-0.999765</td>\n",
       "      <td>-0.97658</td>\n",
       "      <td>-1.0</td>\n",
       "      <td>-1.000000</td>\n",
       "      <td>-1.000000</td>\n",
       "      <td>-1.0</td>\n",
       "      <td>-1.000000</td>\n",
       "      <td>-1.0</td>\n",
       "    </tr>\n",
       "    <tr>\n",
       "      <th>max</th>\n",
       "      <td>1.0</td>\n",
       "      <td>1.0</td>\n",
       "      <td>1.0</td>\n",
       "      <td>1.0</td>\n",
       "      <td>0.916238</td>\n",
       "      <td>1.0</td>\n",
       "      <td>1.0</td>\n",
       "      <td>0.967664</td>\n",
       "      <td>1.0</td>\n",
       "      <td>1.0</td>\n",
       "      <td>...</td>\n",
       "      <td>0.9467</td>\n",
       "      <td>0.989538</td>\n",
       "      <td>0.956845</td>\n",
       "      <td>1.00000</td>\n",
       "      <td>1.0</td>\n",
       "      <td>0.998702</td>\n",
       "      <td>0.996078</td>\n",
       "      <td>1.0</td>\n",
       "      <td>0.478157</td>\n",
       "      <td>1.0</td>\n",
       "    </tr>\n",
       "  </tbody>\n",
       "</table>\n",
       "<p>2 rows × 561 columns</p>\n",
       "</div>"
      ],
      "text/plain": [
       "     0    1    2    3         4    5    6         7    8    9    ...     551  \\\n",
       "min -1.0 -1.0 -1.0 -1.0 -0.999873 -1.0 -1.0 -1.000000 -1.0 -1.0  ... -1.0000   \n",
       "max  1.0  1.0  1.0  1.0  0.916238  1.0  1.0  0.967664  1.0  1.0  ...  0.9467   \n",
       "\n",
       "          552       553      554  555       556       557  558       559  560  \n",
       "min -0.995357 -0.999765 -0.97658 -1.0 -1.000000 -1.000000 -1.0 -1.000000 -1.0  \n",
       "max  0.989538  0.956845  1.00000  1.0  0.998702  0.996078  1.0  0.478157  1.0  \n",
       "\n",
       "[2 rows x 561 columns]"
      ]
     },
     "execution_count": 5,
     "metadata": {},
     "output_type": "execute_result"
    }
   ],
   "source": [
    "X_train.agg([min, max])"
   ]
  },
  {
   "cell_type": "code",
   "execution_count": 51,
   "metadata": {},
   "outputs": [],
   "source": [
    "random.seed(7)\n",
    "rand_nums = random.sample(range(len(X_test)), 100)\n",
    "X_rand_users = X_test.iloc[rand_nums]\n",
    "y_rand_users = y_test.iloc[rand_nums]"
   ]
  },
  {
   "cell_type": "code",
   "execution_count": 52,
   "metadata": {},
   "outputs": [],
   "source": [
    "simulated_queries = pd.concat([X_rand_users]*50)\n",
    "simulated_queries[simulated_queries.columns] = np.random.uniform(-1,1,size=len(simulated_queries)*simulated_queries.shape[1]).reshape(len(simulated_queries),-1)\n",
    "\n",
    "noise_queries = pd.concat([X_rand_users]*50)\n",
    "rand_noise = np.random.uniform(-1,1,size=noise_queries.shape[0]*noise_queries.shape[1]).reshape(noise_queries.shape[0],-1)\n",
    "noise_queries = noise_queries + rand_noise"
   ]
  },
  {
   "cell_type": "code",
   "execution_count": 102,
   "metadata": {},
   "outputs": [],
   "source": [
    "df_conf = pd.DataFrame(columns=['model_type', 'conf_type', 'conf'])"
   ]
  },
  {
   "cell_type": "code",
   "execution_count": 103,
   "metadata": {},
   "outputs": [
    {
     "name": "stdout",
     "output_type": "stream",
     "text": [
      "dt conf: 1.0, 1.0, 1.0, 1.0\n",
      "rf conf: 0.9668117519042437, 0.8729216152019003, 0.5789, 0.6478\n",
      "lr conf: 0.9785964832801664, 0.9590663603334257, 0.7869499182289316, 0.9306041561746621\n",
      "dnn conf: 0.9802948832511902, 0.9667935371398926, 0.7860867977142334, 0.9556170105934143\n"
     ]
    },
    {
     "data": {
      "text/html": [
       "<div>\n",
       "<style scoped>\n",
       "    .dataframe tbody tr th:only-of-type {\n",
       "        vertical-align: middle;\n",
       "    }\n",
       "\n",
       "    .dataframe tbody tr th {\n",
       "        vertical-align: top;\n",
       "    }\n",
       "\n",
       "    .dataframe thead th {\n",
       "        text-align: right;\n",
       "    }\n",
       "</style>\n",
       "<table border=\"1\" class=\"dataframe\">\n",
       "  <thead>\n",
       "    <tr style=\"text-align: right;\">\n",
       "      <th></th>\n",
       "      <th>model_type</th>\n",
       "      <th>conf_type</th>\n",
       "      <th>conf</th>\n",
       "    </tr>\n",
       "  </thead>\n",
       "  <tbody>\n",
       "    <tr>\n",
       "      <th>0</th>\n",
       "      <td>dt</td>\n",
       "      <td>X_train</td>\n",
       "      <td>1.000000</td>\n",
       "    </tr>\n",
       "    <tr>\n",
       "      <th>1</th>\n",
       "      <td>dt</td>\n",
       "      <td>X_train</td>\n",
       "      <td>1.000000</td>\n",
       "    </tr>\n",
       "    <tr>\n",
       "      <th>2</th>\n",
       "      <td>dt</td>\n",
       "      <td>X_train</td>\n",
       "      <td>1.000000</td>\n",
       "    </tr>\n",
       "    <tr>\n",
       "      <th>3</th>\n",
       "      <td>dt</td>\n",
       "      <td>X_train</td>\n",
       "      <td>1.000000</td>\n",
       "    </tr>\n",
       "    <tr>\n",
       "      <th>4</th>\n",
       "      <td>dt</td>\n",
       "      <td>X_train</td>\n",
       "      <td>1.000000</td>\n",
       "    </tr>\n",
       "    <tr>\n",
       "      <th>...</th>\n",
       "      <td>...</td>\n",
       "      <td>...</td>\n",
       "      <td>...</td>\n",
       "    </tr>\n",
       "    <tr>\n",
       "      <th>81191</th>\n",
       "      <td>dnn</td>\n",
       "      <td>X_noise</td>\n",
       "      <td>1.000000</td>\n",
       "    </tr>\n",
       "    <tr>\n",
       "      <th>81192</th>\n",
       "      <td>dnn</td>\n",
       "      <td>X_noise</td>\n",
       "      <td>0.998385</td>\n",
       "    </tr>\n",
       "    <tr>\n",
       "      <th>81193</th>\n",
       "      <td>dnn</td>\n",
       "      <td>X_noise</td>\n",
       "      <td>0.999041</td>\n",
       "    </tr>\n",
       "    <tr>\n",
       "      <th>81194</th>\n",
       "      <td>dnn</td>\n",
       "      <td>X_noise</td>\n",
       "      <td>0.999932</td>\n",
       "    </tr>\n",
       "    <tr>\n",
       "      <th>81195</th>\n",
       "      <td>dnn</td>\n",
       "      <td>X_noise</td>\n",
       "      <td>0.999998</td>\n",
       "    </tr>\n",
       "  </tbody>\n",
       "</table>\n",
       "<p>81196 rows × 3 columns</p>\n",
       "</div>"
      ],
      "text/plain": [
       "      model_type conf_type      conf\n",
       "0             dt   X_train  1.000000\n",
       "1             dt   X_train  1.000000\n",
       "2             dt   X_train  1.000000\n",
       "3             dt   X_train  1.000000\n",
       "4             dt   X_train  1.000000\n",
       "...          ...       ...       ...\n",
       "81191        dnn   X_noise  1.000000\n",
       "81192        dnn   X_noise  0.998385\n",
       "81193        dnn   X_noise  0.999041\n",
       "81194        dnn   X_noise  0.999932\n",
       "81195        dnn   X_noise  0.999998\n",
       "\n",
       "[81196 rows x 3 columns]"
      ]
     },
     "execution_count": 103,
     "metadata": {},
     "output_type": "execute_result"
    }
   ],
   "source": [
    "for model_type in ['dt', 'rf', 'lr', 'dnn']:\n",
    "    if model_type != 'dnn':\n",
    "        with open('./models/UCI_HAR/activity_recognition/{}.pkl'.format(model_type), 'rb') as f:\n",
    "            model = pkl.load(f)\n",
    "        train_max_conf = model.predict_proba(X_train).max(axis=1)\n",
    "        test_max_conf = model.predict_proba(X_test).max(axis=1)\n",
    "        rand_max_conf = model.predict_proba(simulated_queries).max(axis=1)\n",
    "        noise_max_conf = model.predict_proba(noise_queries).max(axis=1)\n",
    "    else:\n",
    "        model = torch.load('./models/UCI_HAR/activity_recognition/dnn.pt')\n",
    "        train_max_conf, _ = torch.max(torch.nn.functional.softmax(model(torch.from_numpy(X_train.values).float()).data, dim=1),1)\n",
    "        test_max_conf, _ = torch.max(torch.nn.functional.softmax(model(torch.from_numpy(X_test.values).float()).data, dim=1),1)\n",
    "        rand_max_conf, _ = torch.max(torch.nn.functional.softmax(model(torch.from_numpy(simulated_queries.values).float()).data, dim=1),1)\n",
    "        noise_max_conf, _ = torch.max(torch.nn.functional.softmax(model(torch.from_numpy(noise_queries.values).float()).data, dim=1),1)\n",
    "\n",
    "        train_max_conf = train_max_conf.numpy()\n",
    "        test_max_conf = test_max_conf.numpy()\n",
    "        rand_max_conf = rand_max_conf.numpy()\n",
    "        noise_max_conf = noise_max_conf.numpy()\n",
    "    \n",
    "    print('{} conf: {}, {}, {}, {}'.format(model_type, train_max_conf.mean(), test_max_conf.mean(), rand_max_conf.mean(), noise_max_conf.mean()))\n",
    "\n",
    "    df_tr = pd.DataFrame({'conf_type': ['X_train']*len(train_max_conf), 'conf': train_max_conf})\n",
    "    df_te = pd.DataFrame({'conf_type': ['X_test']*len(test_max_conf), 'conf': test_max_conf})\n",
    "    df_ra = pd.DataFrame({'conf_type': ['X_random']*len(rand_max_conf), 'conf': rand_max_conf})\n",
    "    df_no = pd.DataFrame({'conf_type': ['X_noise']*len(noise_max_conf), 'conf': noise_max_conf})\n",
    "    df_all = pd.concat([df_tr, df_te, df_ra, df_no])\n",
    "    df_all['model_type'] = model_type\n",
    "\n",
    "    df_conf = pd.concat([df_conf, df_all], ignore_index=True)"
   ]
  },
  {
   "cell_type": "code",
   "execution_count": 104,
   "metadata": {},
   "outputs": [
    {
     "data": {
      "image/png": "[encoded data removed]",
      "text/plain": [
       "<Figure size 432x288 with 1 Axes>"
      ]
     },
     "metadata": {
      "needs_background": "light"
     },
     "output_type": "display_data"
    }
   ],
   "source": [
    "sns.violinplot(data=df_conf, x='model_type', y='conf', hue='conf_type')\n",
    "plt.xlabel(\"Model\")\n",
    "plt.ylabel(\"Maximum Confidence\")\n",
    "plt.legend(title='Data')\n",
    "plt.show()"
   ]
  },
  {
   "cell_type": "code",
   "execution_count": 117,
   "metadata": {},
   "outputs": [
    {
     "name": "stdout",
     "output_type": "stream",
     "text": [
      "Model: dnn, Data: X_noise, Mean: 0.955616964095831, Var: 0.010738646307518727\n",
      "Model: dnn, Data: X_random, Mean: 0.7860868485033512, Var: 0.03848793794477035\n",
      "Model: dnn, Data: X_test, Mean: 0.9667935845788794, Var: 0.00802236749553484\n",
      "Model: dnn, Data: X_train, Mean: 0.9802948656948982, Var: 0.0044156509333877275\n",
      "Model: dt, Data: X_noise, Mean: 1.0, Var: 0.0\n",
      "Model: dt, Data: X_random, Mean: 1.0, Var: 0.0\n",
      "Model: dt, Data: X_test, Mean: 1.0, Var: 0.0\n",
      "Model: dt, Data: X_train, Mean: 1.0, Var: 0.0\n",
      "Model: lr, Data: X_noise, Mean: 0.9306041561746621, Var: 0.01700163722290432\n",
      "Model: lr, Data: X_random, Mean: 0.7869499182289316, Var: 0.03713342468068362\n",
      "Model: lr, Data: X_test, Mean: 0.9590663603334257, Var: 0.008888736173933116\n",
      "Model: lr, Data: X_train, Mean: 0.9785964832801664, Var: 0.0036976115850798448\n",
      "Model: rf, Data: X_noise, Mean: 0.6478, Var: 0.05205516\n",
      "Model: rf, Data: X_random, Mean: 0.5789, Var: 0.03322479\n",
      "Model: rf, Data: X_test, Mean: 0.8729216152019003, Var: 0.047390276516155974\n",
      "Model: rf, Data: X_train, Mean: 0.9668117519042437, Var: 0.015492664236212657\n"
     ]
    }
   ],
   "source": [
    "groups = df_conf.groupby(['model_type', 'conf_type'])\n",
    "for k,g in groups:\n",
    "    print('Model: {}, Data: {}, Mean: {}, Var: {}'.format(k[0], k[1], np.mean(g['conf']), np.var(g['conf'])))"
   ]
  },
  {
   "cell_type": "code",
   "execution_count": 72,
   "metadata": {},
   "outputs": [
    {
     "name": "stderr",
     "output_type": "stream",
     "text": [
      "/Users/aatrey/Desktop/GradSchool/Research/private-ondevice-ml/venv/lib/python3.6/site-packages/seaborn/distributions.py:316: UserWarning: Dataset has 0 variance; skipping density estimate. Pass `warn_singular=False` to disable this warning.\n",
      "  warnings.warn(msg, UserWarning)\n",
      "/Users/aatrey/Desktop/GradSchool/Research/private-ondevice-ml/venv/lib/python3.6/site-packages/seaborn/distributions.py:316: UserWarning: Dataset has 0 variance; skipping density estimate. Pass `warn_singular=False` to disable this warning.\n",
      "  warnings.warn(msg, UserWarning)\n",
      "/Users/aatrey/Desktop/GradSchool/Research/private-ondevice-ml/venv/lib/python3.6/site-packages/seaborn/distributions.py:316: UserWarning: Dataset has 0 variance; skipping density estimate. Pass `warn_singular=False` to disable this warning.\n",
      "  warnings.warn(msg, UserWarning)\n",
      "/Users/aatrey/Desktop/GradSchool/Research/private-ondevice-ml/venv/lib/python3.6/site-packages/seaborn/distributions.py:316: UserWarning: Dataset has 0 variance; skipping density estimate. Pass `warn_singular=False` to disable this warning.\n",
      "  warnings.warn(msg, UserWarning)\n",
      "No handles with labels found to put in legend.\n"
     ]
    },
    {
     "data": {
      "image/png": "[encoded data removed]",
      "text/plain": [
       "<Figure size 432x288 with 1 Axes>"
      ]
     },
     "metadata": {
      "needs_background": "light"
     },
     "output_type": "display_data"
    },
    {
     "name": "stderr",
     "output_type": "stream",
     "text": [
      "No handles with labels found to put in legend.\n"
     ]
    },
    {
     "data": {
      "image/png": "[encoded data removed]",
      "text/plain": [
       "<Figure size 432x288 with 1 Axes>"
      ]
     },
     "metadata": {
      "needs_background": "light"
     },
     "output_type": "display_data"
    },
    {
     "name": "stderr",
     "output_type": "stream",
     "text": [
      "No handles with labels found to put in legend.\n"
     ]
    },
    {
     "data": {
      "image/png": "[encoded data removed]",
      "text/plain": [
       "<Figure size 432x288 with 1 Axes>"
      ]
     },
     "metadata": {
      "needs_background": "light"
     },
     "output_type": "display_data"
    },
    {
     "name": "stderr",
     "output_type": "stream",
     "text": [
      "No handles with labels found to put in legend.\n"
     ]
    },
    {
     "data": {
      "image/png": "[encoded data removed]",
      "text/plain": [
       "<Figure size 432x288 with 1 Axes>"
      ]
     },
     "metadata": {
      "needs_background": "light"
     },
     "output_type": "display_data"
    },
    {
     "data": {
      "text/plain": [
       "<Figure size 432x288 with 0 Axes>"
      ]
     },
     "metadata": {},
     "output_type": "display_data"
    }
   ],
   "source": [
    "df_conf = df_conf.reset_index()\n",
    "for model in df_conf['model_type'].unique():\n",
    "    sns.kdeplot(data=df_conf[df_conf['model_type']==model], x='conf', hue='conf_type')\n",
    "    plt.xlabel(\"Maximum Confidence\")\n",
    "    plt.ylabel(\"Density\")\n",
    "    plt.legend(title='Data')\n",
    "    plt.title('KDE of Max Confidence for Model {}'.format(model))\n",
    "    plt.show()\n",
    "    plt.clf()"
   ]
  }
 ],
 "metadata": {
  "kernelspec": {
   "display_name": "venv",
   "language": "python",
   "name": "python3"
  },
  "language_info": {
   "codemirror_mode": {
    "name": "ipython",
    "version": 3
   },
   "file_extension": ".py",
   "mimetype": "text/x-python",
   "name": "python",
   "nbconvert_exporter": "python",
   "pygments_lexer": "ipython3",
   "version": "3.6.8"
  },
  "orig_nbformat": 4,
  "vscode": {
   "interpreter": {
    "hash": "b776578dfc9d27cb921d75fd999535e2ff56c854191ad1ebf0220a31a105b57d"
   }
  }
 },
 "nbformat": 4,
 "nbformat_minor": 2
}
